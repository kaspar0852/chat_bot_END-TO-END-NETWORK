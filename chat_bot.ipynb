{
 "cells": [
  {
   "cell_type": "code",
   "execution_count": 1,
   "id": "6aa1a578",
   "metadata": {},
   "outputs": [],
   "source": [
    "import pickle\n",
    "import pandas as pd\n",
    "import numpy as np"
   ]
  },
  {
   "cell_type": "code",
   "execution_count": 2,
   "id": "6a8e138f",
   "metadata": {},
   "outputs": [],
   "source": [
    "with open('train_qa.txt','rb') as f:\n",
    "    train_data = pickle.load(f)"
   ]
  },
  {
   "cell_type": "code",
   "execution_count": 3,
   "id": "819283ea",
   "metadata": {},
   "outputs": [],
   "source": [
    "with open('test_qa.txt','rb') as f:\n",
    "    test_data = pickle.load(f)"
   ]
  },
  {
   "cell_type": "code",
   "execution_count": 4,
   "id": "d41d3201",
   "metadata": {},
   "outputs": [
    {
     "data": {
      "text/plain": [
       "1000"
      ]
     },
     "execution_count": 4,
     "metadata": {},
     "output_type": "execute_result"
    }
   ],
   "source": [
    "len(test_data)"
   ]
  },
  {
   "cell_type": "code",
   "execution_count": 5,
   "id": "821558d5",
   "metadata": {},
   "outputs": [
    {
     "data": {
      "text/plain": [
       "10000"
      ]
     },
     "execution_count": 5,
     "metadata": {},
     "output_type": "execute_result"
    }
   ],
   "source": [
    "len(train_data)"
   ]
  },
  {
   "cell_type": "code",
   "execution_count": 6,
   "id": "7e506b07",
   "metadata": {},
   "outputs": [
    {
     "data": {
      "text/plain": [
       "(['Mary',\n",
       "  'moved',\n",
       "  'to',\n",
       "  'the',\n",
       "  'bathroom',\n",
       "  '.',\n",
       "  'Sandra',\n",
       "  'journeyed',\n",
       "  'to',\n",
       "  'the',\n",
       "  'bedroom',\n",
       "  '.'],\n",
       " ['Is', 'Sandra', 'in', 'the', 'hallway', '?'],\n",
       " 'no')"
      ]
     },
     "execution_count": 6,
     "metadata": {},
     "output_type": "execute_result"
    }
   ],
   "source": [
    "train_data[0]"
   ]
  },
  {
   "cell_type": "code",
   "execution_count": 7,
   "id": "b8522c37",
   "metadata": {},
   "outputs": [],
   "source": [
    "#here we can see 3 main components :\n",
    "#1>the stroy \n",
    "#2>the question\n",
    "#3>the answer"
   ]
  },
  {
   "cell_type": "code",
   "execution_count": 8,
   "id": "6737bf61",
   "metadata": {},
   "outputs": [
    {
     "data": {
      "text/plain": [
       "'Mary moved to the bathroom . Sandra journeyed to the bedroom .'"
      ]
     },
     "execution_count": 8,
     "metadata": {},
     "output_type": "execute_result"
    }
   ],
   "source": [
    "' '.join(train_data[0][0]) #the story"
   ]
  },
  {
   "cell_type": "code",
   "execution_count": 9,
   "id": "0db4257d",
   "metadata": {},
   "outputs": [
    {
     "data": {
      "text/plain": [
       "'Is Sandra in the hallway ?'"
      ]
     },
     "execution_count": 9,
     "metadata": {},
     "output_type": "execute_result"
    }
   ],
   "source": [
    "' '.join(train_data[0][1]) #the question"
   ]
  },
  {
   "cell_type": "code",
   "execution_count": 10,
   "id": "a81eaffd",
   "metadata": {},
   "outputs": [
    {
     "data": {
      "text/plain": [
       "'n o'"
      ]
     },
     "execution_count": 10,
     "metadata": {},
     "output_type": "execute_result"
    }
   ],
   "source": [
    "' '.join(train_data[0][2]) #answer"
   ]
  },
  {
   "cell_type": "code",
   "execution_count": 11,
   "id": "5a40410d",
   "metadata": {},
   "outputs": [],
   "source": [
    "all_data = test_data + train_data"
   ]
  },
  {
   "cell_type": "code",
   "execution_count": 12,
   "id": "eefc618d",
   "metadata": {},
   "outputs": [
    {
     "data": {
      "text/plain": [
       "11000"
      ]
     },
     "execution_count": 12,
     "metadata": {},
     "output_type": "execute_result"
    }
   ],
   "source": [
    "len(all_data)"
   ]
  },
  {
   "cell_type": "code",
   "execution_count": 13,
   "id": "46b7c1f7",
   "metadata": {},
   "outputs": [],
   "source": [
    "vocab = set()\n",
    "\n",
    "for story,questions,answer in all_data:\n",
    "    vocab = vocab.union(set(story))\n",
    "    vocab = vocab.union(set(questions))"
   ]
  },
  {
   "cell_type": "code",
   "execution_count": 14,
   "id": "fe716f62",
   "metadata": {},
   "outputs": [],
   "source": [
    "vocab.add('no')"
   ]
  },
  {
   "cell_type": "code",
   "execution_count": 15,
   "id": "bcfc1af5",
   "metadata": {},
   "outputs": [],
   "source": [
    "vocab.add('yes')"
   ]
  },
  {
   "cell_type": "code",
   "execution_count": 16,
   "id": "d0f4d195",
   "metadata": {},
   "outputs": [
    {
     "data": {
      "text/plain": [
       "{'.',\n",
       " '?',\n",
       " 'Daniel',\n",
       " 'Is',\n",
       " 'John',\n",
       " 'Mary',\n",
       " 'Sandra',\n",
       " 'apple',\n",
       " 'back',\n",
       " 'bathroom',\n",
       " 'bedroom',\n",
       " 'discarded',\n",
       " 'down',\n",
       " 'dropped',\n",
       " 'football',\n",
       " 'garden',\n",
       " 'got',\n",
       " 'grabbed',\n",
       " 'hallway',\n",
       " 'in',\n",
       " 'journeyed',\n",
       " 'kitchen',\n",
       " 'left',\n",
       " 'milk',\n",
       " 'moved',\n",
       " 'no',\n",
       " 'office',\n",
       " 'picked',\n",
       " 'put',\n",
       " 'the',\n",
       " 'there',\n",
       " 'to',\n",
       " 'took',\n",
       " 'travelled',\n",
       " 'up',\n",
       " 'went',\n",
       " 'yes'}"
      ]
     },
     "execution_count": 16,
     "metadata": {},
     "output_type": "execute_result"
    }
   ],
   "source": [
    "vocab"
   ]
  },
  {
   "cell_type": "code",
   "execution_count": 17,
   "id": "df0d6d96",
   "metadata": {},
   "outputs": [],
   "source": [
    "#while we are constructing our own questions we will be limited to these words"
   ]
  },
  {
   "cell_type": "code",
   "execution_count": 18,
   "id": "71d127a0",
   "metadata": {},
   "outputs": [],
   "source": [
    "vocab_len = len(vocab)+1"
   ]
  },
  {
   "cell_type": "code",
   "execution_count": 19,
   "id": "1219bbf1",
   "metadata": {},
   "outputs": [
    {
     "data": {
      "text/plain": [
       "38"
      ]
     },
     "execution_count": 19,
     "metadata": {},
     "output_type": "execute_result"
    }
   ],
   "source": [
    "vocab_len"
   ]
  },
  {
   "cell_type": "code",
   "execution_count": 20,
   "id": "474db83a",
   "metadata": {},
   "outputs": [],
   "source": [
    "#now lets figure out how long is the longest story and how long is the longest question"
   ]
  },
  {
   "cell_type": "code",
   "execution_count": 21,
   "id": "035bb112",
   "metadata": {},
   "outputs": [],
   "source": [
    "#Longest Story\n",
    "all_story_lens = [len(data[0]) for data in all_data]"
   ]
  },
  {
   "cell_type": "code",
   "execution_count": 22,
   "id": "c78d0ac4",
   "metadata": {},
   "outputs": [],
   "source": [
    "max_story_leng = max(all_story_lens) #we will need these later on for padding our sequences"
   ]
  },
  {
   "cell_type": "code",
   "execution_count": 23,
   "id": "e79ef8d5",
   "metadata": {},
   "outputs": [],
   "source": [
    "all_story_lens = [len(data[1]) for data in all_data]\n",
    "max_question_leng = max(all_story_lens)"
   ]
  },
  {
   "cell_type": "code",
   "execution_count": 24,
   "id": "7835ca7a",
   "metadata": {},
   "outputs": [],
   "source": [
    "from keras.preprocessing.sequence import pad_sequences\n",
    "from keras.preprocessing.text import Tokenizer"
   ]
  },
  {
   "cell_type": "markdown",
   "id": "ecbea93b",
   "metadata": {},
   "source": [
    "# Vectorization \n"
   ]
  },
  {
   "cell_type": "code",
   "execution_count": 28,
   "id": "f5f2dad8",
   "metadata": {},
   "outputs": [],
   "source": [
    "tokenizer = Tokenizer(filters = [])\n",
    "tokenizer.fit_on_texts(vocab)"
   ]
  },
  {
   "cell_type": "code",
   "execution_count": 29,
   "id": "445e8c66",
   "metadata": {},
   "outputs": [
    {
     "data": {
      "text/plain": [
       "{'got': 1,\n",
       " 'no': 2,\n",
       " 'back': 3,\n",
       " 'football': 4,\n",
       " 'bathroom': 5,\n",
       " 'down': 6,\n",
       " 'office': 7,\n",
       " 'john': 8,\n",
       " 'journeyed': 9,\n",
       " 'travelled': 10,\n",
       " 'up': 11,\n",
       " 'kitchen': 12,\n",
       " 'in': 13,\n",
       " 'dropped': 14,\n",
       " 'left': 15,\n",
       " 'yes': 16,\n",
       " 'daniel': 17,\n",
       " 'the': 18,\n",
       " 'put': 19,\n",
       " '?': 20,\n",
       " 'sandra': 21,\n",
       " 'moved': 22,\n",
       " 'discarded': 23,\n",
       " 'grabbed': 24,\n",
       " 'to': 25,\n",
       " '.': 26,\n",
       " 'milk': 27,\n",
       " 'apple': 28,\n",
       " 'mary': 29,\n",
       " 'went': 30,\n",
       " 'hallway': 31,\n",
       " 'garden': 32,\n",
       " 'picked': 33,\n",
       " 'there': 34,\n",
       " 'bedroom': 35,\n",
       " 'took': 36,\n",
       " 'is': 37}"
      ]
     },
     "execution_count": 29,
     "metadata": {},
     "output_type": "execute_result"
    }
   ],
   "source": [
    "tokenizer.word_index"
   ]
  },
  {
   "cell_type": "code",
   "execution_count": 33,
   "id": "8a71d165",
   "metadata": {},
   "outputs": [],
   "source": [
    "train_story_text = []\n",
    "train_questions_text = []\n",
    "train_answers = []"
   ]
  },
  {
   "cell_type": "code",
   "execution_count": 35,
   "id": "3be3abb6",
   "metadata": {},
   "outputs": [],
   "source": [
    "for story,questions,answer in train_data:\n",
    "    train_story_text.append(story)\n",
    "    train_questions_text.append(questions)   \n",
    "    train_answers.append(answer)    "
   ]
  },
  {
   "cell_type": "code",
   "execution_count": 42,
   "id": "569ad116",
   "metadata": {},
   "outputs": [],
   "source": [
    "#train_story_text"
   ]
  },
  {
   "cell_type": "code",
   "execution_count": 43,
   "id": "511e654f",
   "metadata": {},
   "outputs": [],
   "source": [
    "#creating sequential data format for our stories\n",
    "train_story_seq = tokenizer.texts_to_sequences(train_story_text)"
   ]
  },
  {
   "cell_type": "code",
   "execution_count": 47,
   "id": "af2b2482",
   "metadata": {},
   "outputs": [],
   "source": [
    "#train_story_seq "
   ]
  },
  {
   "cell_type": "code",
   "execution_count": 48,
   "id": "9c1480ab",
   "metadata": {},
   "outputs": [],
   "source": [
    "#here we can see that the first word has sequence number 29 which is marry in the orginal stroy. this 29 also matches-\n",
    "#-with tokenizer word index where marry has index 29"
   ]
  },
  {
   "cell_type": "code",
   "execution_count": 53,
   "id": "565478d6",
   "metadata": {},
   "outputs": [],
   "source": [
    "def vectorize_stories(data, word_index=tokenizer.word_index, max_story_leng=max_story_leng,max_question_leng=max_question_leng):\n",
    "   \n",
    "    # X = STORIES\n",
    "    X = []\n",
    "    # Xq = QUERY/QUESTION\n",
    "    Xq = []\n",
    "    # Y = CORRECT ANSWER\n",
    "    Y = []\n",
    "    \n",
    "    \n",
    "    for story, query, answer in data:\n",
    "        \n",
    "        # Grab the word index for every word in story\n",
    "        x = [word_index[word.lower()] for word in story]\n",
    "        # Grab the word index for every word in query\n",
    "        xq = [word_index[word.lower()] for word in query]\n",
    "        \n",
    "        # Grab the Answers (either Yes/No so we don't need to use list comprehension here)\n",
    "        # Index 0 is reserved so we're going to use + 1\n",
    "        y = np.zeros(len(word_index) + 1)\n",
    "        \n",
    "        # Now that y is all zeros and we know its just Yes/No , we can use numpy logic to create this assignment\n",
    "        #\n",
    "        y[word_index[answer]] = 1\n",
    "        \n",
    "        # Append each set of story,query, and answer to their respective holding lists\n",
    "        X.append(x)\n",
    "        Xq.append(xq)\n",
    "        Y.append(y)\n",
    "        \n",
    "    # Finally, pad the sequences based on their max length so the RNN can be trained on uniformly long sequences.\n",
    "        \n",
    "    # RETURN TUPLE FOR UNPACKING\n",
    "    return (pad_sequences(X, maxlen=max_story_leng),pad_sequences(Xq, maxlen=max_question_leng), np.array(Y))"
   ]
  },
  {
   "cell_type": "code",
   "execution_count": 54,
   "id": "08c3f772",
   "metadata": {},
   "outputs": [],
   "source": [
    "inputs_train, queries_train, answers_train = vectorize_stories(train_data)\n",
    "inputs_test, queries_test, answers_test = vectorize_stories(test_data)"
   ]
  },
  {
   "cell_type": "code",
   "execution_count": 60,
   "id": "5d7e05d4",
   "metadata": {},
   "outputs": [
    {
     "data": {
      "text/plain": [
       "array([[ 0,  0,  0, ..., 18, 35, 26],\n",
       "       [ 0,  0,  0, ..., 18, 32, 26],\n",
       "       [ 0,  0,  0, ..., 18, 32, 26],\n",
       "       ...,\n",
       "       [ 0,  0,  0, ..., 18, 28, 26],\n",
       "       [ 0,  0,  0, ..., 18, 32, 26],\n",
       "       [ 0,  0,  0, ..., 28, 34, 26]], dtype=int32)"
      ]
     },
     "execution_count": 60,
     "metadata": {},
     "output_type": "execute_result"
    }
   ],
   "source": [
    "#these are just arrays we have  word index positon along with word index\n",
    "inputs_test"
   ]
  },
  {
   "cell_type": "code",
   "execution_count": 61,
   "id": "f652954c",
   "metadata": {},
   "outputs": [
    {
     "data": {
      "text/plain": [
       "array([[37,  8, 13, 18, 12, 20],\n",
       "       [37,  8, 13, 18, 12, 20],\n",
       "       [37,  8, 13, 18, 32, 20],\n",
       "       ...,\n",
       "       [37, 29, 13, 18, 35, 20],\n",
       "       [37, 21, 13, 18, 32, 20],\n",
       "       [37, 29, 13, 18, 32, 20]], dtype=int32)"
      ]
     },
     "execution_count": 61,
     "metadata": {},
     "output_type": "execute_result"
    }
   ],
   "source": [
    "queries_test"
   ]
  },
  {
   "cell_type": "code",
   "execution_count": 62,
   "id": "819025da",
   "metadata": {},
   "outputs": [
    {
     "data": {
      "text/plain": [
       "array([[0., 0., 1., ..., 0., 0., 0.],\n",
       "       [0., 0., 1., ..., 0., 0., 0.],\n",
       "       [0., 0., 0., ..., 0., 0., 0.],\n",
       "       ...,\n",
       "       [0., 0., 1., ..., 0., 0., 0.],\n",
       "       [0., 0., 0., ..., 0., 0., 0.],\n",
       "       [0., 0., 0., ..., 0., 0., 0.]])"
      ]
     },
     "execution_count": 62,
     "metadata": {},
     "output_type": "execute_result"
    }
   ],
   "source": [
    "answers_test"
   ]
  },
  {
   "cell_type": "code",
   "execution_count": 63,
   "id": "4875357e",
   "metadata": {},
   "outputs": [
    {
     "data": {
      "text/plain": [
       "array([  0.,   0., 503.,   0.,   0.,   0.,   0.,   0.,   0.,   0.,   0.,\n",
       "         0.,   0.,   0.,   0.,   0., 497.,   0.,   0.,   0.,   0.,   0.,\n",
       "         0.,   0.,   0.,   0.,   0.,   0.,   0.,   0.,   0.,   0.,   0.,\n",
       "         0.,   0.,   0.,   0.,   0.])"
      ]
     },
     "execution_count": 63,
     "metadata": {},
     "output_type": "execute_result"
    }
   ],
   "source": [
    "sum(answers_test)"
   ]
  },
  {
   "cell_type": "code",
   "execution_count": 64,
   "id": "c5843164",
   "metadata": {},
   "outputs": [
    {
     "data": {
      "text/plain": [
       "16"
      ]
     },
     "execution_count": 64,
     "metadata": {},
     "output_type": "execute_result"
    }
   ],
   "source": [
    "tokenizer.word_index['yes']"
   ]
  },
  {
   "cell_type": "code",
   "execution_count": 65,
   "id": "a997e0c8",
   "metadata": {},
   "outputs": [
    {
     "data": {
      "text/plain": [
       "2"
      ]
     },
     "execution_count": 65,
     "metadata": {},
     "output_type": "execute_result"
    }
   ],
   "source": [
    "tokenizer.word_index['no']"
   ]
  },
  {
   "cell_type": "code",
   "execution_count": null,
   "id": "6b9daebf",
   "metadata": {},
   "outputs": [],
   "source": []
  },
  {
   "cell_type": "code",
   "execution_count": null,
   "id": "11cd353c",
   "metadata": {},
   "outputs": [],
   "source": []
  },
  {
   "cell_type": "code",
   "execution_count": null,
   "id": "93031df4",
   "metadata": {},
   "outputs": [],
   "source": []
  },
  {
   "cell_type": "code",
   "execution_count": null,
   "id": "31b81c1c",
   "metadata": {},
   "outputs": [],
   "source": []
  },
  {
   "cell_type": "code",
   "execution_count": null,
   "id": "bc810b42",
   "metadata": {},
   "outputs": [],
   "source": []
  }
 ],
 "metadata": {
  "kernelspec": {
   "display_name": "Python 3 (ipykernel)",
   "language": "python",
   "name": "python3"
  },
  "language_info": {
   "codemirror_mode": {
    "name": "ipython",
    "version": 3
   },
   "file_extension": ".py",
   "mimetype": "text/x-python",
   "name": "python",
   "nbconvert_exporter": "python",
   "pygments_lexer": "ipython3",
   "version": "3.7.13"
  }
 },
 "nbformat": 4,
 "nbformat_minor": 5
}
